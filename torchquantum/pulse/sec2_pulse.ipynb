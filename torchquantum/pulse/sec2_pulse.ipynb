{
 "cells": [
  {
   "cell_type": "markdown",
   "metadata": {
    "id": "iYVG7W6BghRw",
    "pycharm": {
     "name": "#%% md\n"
    }
   },
   "source": [
    "# **Section2 Use Torchquantum on Pulse Level**"
   ]
  },
  {
   "cell_type": "markdown",
   "metadata": {
    "id": "0qvui6fmg7Sv",
    "pycharm": {
     "name": "#%% md\n"
    }
   },
   "source": [
    "# Setup"
   ]
  },
  {
   "cell_type": "code",
   "execution_count": null,
   "metadata": {
    "colab": {
     "base_uri": "https://localhost:8080/"
    },
    "id": "BgLkdnjhLiK7",
    "outputId": "16cd60ff-9852-47aa-aa29-c2bfee9c9cde",
    "pycharm": {
     "name": "#%%\n"
    }
   },
   "outputs": [
    {
     "name": "stdout",
     "output_type": "stream",
     "text": [
      "Installing torchquantum...\n",
      "fatal: destination path 'torchquantum' already exists and is not an empty directory.\n",
      "/content/torchquantum\n",
      "\u001b[31mERROR: pip's dependency resolver does not currently take into account all the packages that are installed. This behaviour is the source of the following dependency conflicts.\n",
      "qiskit-nature 0.4.4 requires qiskit-terra>=0.21.0, but you have qiskit-terra 0.18.3 which is incompatible.\u001b[0m\n"
     ]
    }
   ],
   "source": [
    "print('Installing torchquantum...')\n",
    "!git clone https://github.com/mit-han-lab/torchquantum.git\n",
    "%cd /content/torchquantum\n",
    "!pip install --editable . 1>/dev/null"
   ]
  },
  {
   "cell_type": "code",
   "execution_count": null,
   "metadata": {
    "colab": {
     "base_uri": "https://localhost:8080/",
     "height": 748
    },
    "id": "Jbhj5196LkpI",
    "outputId": "c435d914-49b6-4117-ab4b-26a0670924a2",
    "pycharm": {
     "name": "#%%\n"
    }
   },
   "outputs": [
    {
     "name": "stdout",
     "output_type": "stream",
     "text": [
      "Looking in indexes: https://pypi.org/simple, https://us-python.pkg.dev/colab-wheels/public/simple/\n",
      "Requirement already satisfied: qiskit_nature==0.4.4 in /usr/local/lib/python3.7/dist-packages (0.4.4)\n",
      "Requirement already satisfied: typing-extensions in /usr/local/lib/python3.7/dist-packages (from qiskit_nature==0.4.4) (4.1.1)\n",
      "Requirement already satisfied: scipy>=1.4 in /usr/local/lib/python3.7/dist-packages (from qiskit_nature==0.4.4) (1.7.3)\n",
      "Requirement already satisfied: numpy>=1.17 in /usr/local/lib/python3.7/dist-packages (from qiskit_nature==0.4.4) (1.21.6)\n",
      "Collecting qiskit-terra>=0.21.0\n",
      "  Using cached qiskit_terra-0.21.2-cp37-cp37m-manylinux_2_17_x86_64.manylinux2014_x86_64.whl (6.7 MB)\n",
      "Requirement already satisfied: scikit-learn>=0.20.0 in /usr/local/lib/python3.7/dist-packages (from qiskit_nature==0.4.4) (1.0.2)\n",
      "Requirement already satisfied: setuptools>=40.1.0 in /usr/local/lib/python3.7/dist-packages (from qiskit_nature==0.4.4) (57.4.0)\n",
      "Requirement already satisfied: retworkx>=0.10.1 in /usr/local/lib/python3.7/dist-packages (from qiskit_nature==0.4.4) (0.11.0)\n",
      "Requirement already satisfied: psutil>=5 in /usr/local/lib/python3.7/dist-packages (from qiskit_nature==0.4.4) (5.4.8)\n",
      "Requirement already satisfied: h5py in /usr/local/lib/python3.7/dist-packages (from qiskit_nature==0.4.4) (3.1.0)\n",
      "Requirement already satisfied: stevedore>=3.0.0 in /usr/local/lib/python3.7/dist-packages (from qiskit-terra>=0.21.0->qiskit_nature==0.4.4) (3.5.0)\n",
      "Requirement already satisfied: shared-memory38 in /usr/local/lib/python3.7/dist-packages (from qiskit-terra>=0.21.0->qiskit_nature==0.4.4) (0.1.2)\n",
      "Requirement already satisfied: tweedledum<2.0,>=1.1 in /usr/local/lib/python3.7/dist-packages (from qiskit-terra>=0.21.0->qiskit_nature==0.4.4) (1.1.1)\n",
      "Requirement already satisfied: symengine>=0.9 in /usr/local/lib/python3.7/dist-packages (from qiskit-terra>=0.21.0->qiskit_nature==0.4.4) (0.9.2)\n",
      "Requirement already satisfied: sympy>=1.3 in /usr/local/lib/python3.7/dist-packages (from qiskit-terra>=0.21.0->qiskit_nature==0.4.4) (1.7.1)\n",
      "Requirement already satisfied: ply>=3.10 in /usr/local/lib/python3.7/dist-packages (from qiskit-terra>=0.21.0->qiskit_nature==0.4.4) (3.11)\n",
      "Requirement already satisfied: dill>=0.3 in /usr/local/lib/python3.7/dist-packages (from qiskit-terra>=0.21.0->qiskit_nature==0.4.4) (0.3.5.1)\n",
      "Requirement already satisfied: python-dateutil>=2.8.0 in /usr/local/lib/python3.7/dist-packages (from qiskit-terra>=0.21.0->qiskit_nature==0.4.4) (2.8.2)\n",
      "Requirement already satisfied: six>=1.5 in /usr/local/lib/python3.7/dist-packages (from python-dateutil>=2.8.0->qiskit-terra>=0.21.0->qiskit_nature==0.4.4) (1.15.0)\n",
      "Requirement already satisfied: joblib>=0.11 in /usr/local/lib/python3.7/dist-packages (from scikit-learn>=0.20.0->qiskit_nature==0.4.4) (1.1.0)\n",
      "Requirement already satisfied: threadpoolctl>=2.0.0 in /usr/local/lib/python3.7/dist-packages (from scikit-learn>=0.20.0->qiskit_nature==0.4.4) (3.1.0)\n",
      "Requirement already satisfied: pbr!=2.1.0,>=2.0.0 in /usr/local/lib/python3.7/dist-packages (from stevedore>=3.0.0->qiskit-terra>=0.21.0->qiskit_nature==0.4.4) (5.10.0)\n",
      "Requirement already satisfied: importlib-metadata>=1.7.0 in /usr/local/lib/python3.7/dist-packages (from stevedore>=3.0.0->qiskit-terra>=0.21.0->qiskit_nature==0.4.4) (4.12.0)\n",
      "Requirement already satisfied: zipp>=0.5 in /usr/local/lib/python3.7/dist-packages (from importlib-metadata>=1.7.0->stevedore>=3.0.0->qiskit-terra>=0.21.0->qiskit_nature==0.4.4) (3.8.1)\n",
      "Requirement already satisfied: mpmath>=0.19 in /usr/local/lib/python3.7/dist-packages (from sympy>=1.3->qiskit-terra>=0.21.0->qiskit_nature==0.4.4) (1.2.1)\n",
      "Requirement already satisfied: cached-property in /usr/local/lib/python3.7/dist-packages (from h5py->qiskit_nature==0.4.4) (1.5.2)\n",
      "Installing collected packages: qiskit-terra\n",
      "  Attempting uninstall: qiskit-terra\n",
      "    Found existing installation: qiskit-terra 0.18.3\n",
      "    Uninstalling qiskit-terra-0.18.3:\n",
      "      Successfully uninstalled qiskit-terra-0.18.3\n",
      "\u001b[31mERROR: pip's dependency resolver does not currently take into account all the packages that are installed. This behaviour is the source of the following dependency conflicts.\n",
      "qiskit 0.32.1 requires qiskit-terra==0.18.3, but you have qiskit-terra 0.21.2 which is incompatible.\u001b[0m\n",
      "Successfully installed qiskit-terra-0.21.2\n"
     ]
    },
    {
     "data": {
      "application/vnd.colab-display-data+json": {
       "pip_warning": {
        "packages": [
         "qiskit"
        ]
       }
      }
     },
     "metadata": {},
     "output_type": "display_data"
    }
   ],
   "source": [
    "!pip install qiskit_nature==0.4.4"
   ]
  },
  {
   "cell_type": "code",
   "execution_count": null,
   "metadata": {
    "colab": {
     "base_uri": "https://localhost:8080/",
     "height": 1000
    },
    "id": "IYK1GsldLuhq",
    "outputId": "c9a72cf2-d2b4-43f1-892f-2d3b249fc7c9",
    "pycharm": {
     "name": "#%%\n"
    }
   },
   "outputs": [
    {
     "name": "stdout",
     "output_type": "stream",
     "text": [
      "Looking in indexes: https://pypi.org/simple, https://us-python.pkg.dev/colab-wheels/public/simple/\n",
      "Collecting qiskit==0.38.0\n",
      "  Using cached qiskit-0.38.0-py3-none-any.whl\n",
      "Collecting qiskit-aer==0.11.0\n",
      "  Using cached qiskit_aer-0.11.0-cp37-cp37m-manylinux_2_17_x86_64.manylinux2014_x86_64.whl (19.2 MB)\n",
      "Requirement already satisfied: qiskit-terra==0.21.2 in /usr/local/lib/python3.7/dist-packages (from qiskit==0.38.0) (0.21.2)\n",
      "Collecting qiskit-ibmq-provider==0.19.2\n",
      "  Using cached qiskit_ibmq_provider-0.19.2-py3-none-any.whl (240 kB)\n",
      "Requirement already satisfied: scipy>=1.0 in /usr/local/lib/python3.7/dist-packages (from qiskit-aer==0.11.0->qiskit==0.38.0) (1.7.3)\n",
      "Requirement already satisfied: numpy>=1.16.3 in /usr/local/lib/python3.7/dist-packages (from qiskit-aer==0.11.0->qiskit==0.38.0) (1.21.6)\n",
      "Requirement already satisfied: requests>=2.19 in /usr/local/lib/python3.7/dist-packages (from qiskit-ibmq-provider==0.19.2->qiskit==0.38.0) (2.28.1)\n",
      "Requirement already satisfied: websockets>=10.0 in /usr/local/lib/python3.7/dist-packages (from qiskit-ibmq-provider==0.19.2->qiskit==0.38.0) (10.3)\n",
      "Requirement already satisfied: urllib3>=1.21.1 in /usr/local/lib/python3.7/dist-packages (from qiskit-ibmq-provider==0.19.2->qiskit==0.38.0) (1.24.3)\n",
      "Requirement already satisfied: python-dateutil>=2.8.0 in /usr/local/lib/python3.7/dist-packages (from qiskit-ibmq-provider==0.19.2->qiskit==0.38.0) (2.8.2)\n",
      "Requirement already satisfied: requests-ntlm>=1.1.0 in /usr/local/lib/python3.7/dist-packages (from qiskit-ibmq-provider==0.19.2->qiskit==0.38.0) (1.1.0)\n",
      "Requirement already satisfied: websocket-client>=1.0.1 in /usr/local/lib/python3.7/dist-packages (from qiskit-ibmq-provider==0.19.2->qiskit==0.38.0) (1.4.1)\n",
      "Requirement already satisfied: symengine>=0.9 in /usr/local/lib/python3.7/dist-packages (from qiskit-terra==0.21.2->qiskit==0.38.0) (0.9.2)\n",
      "Requirement already satisfied: sympy>=1.3 in /usr/local/lib/python3.7/dist-packages (from qiskit-terra==0.21.2->qiskit==0.38.0) (1.7.1)\n",
      "Requirement already satisfied: shared-memory38 in /usr/local/lib/python3.7/dist-packages (from qiskit-terra==0.21.2->qiskit==0.38.0) (0.1.2)\n",
      "Requirement already satisfied: dill>=0.3 in /usr/local/lib/python3.7/dist-packages (from qiskit-terra==0.21.2->qiskit==0.38.0) (0.3.5.1)\n",
      "Requirement already satisfied: ply>=3.10 in /usr/local/lib/python3.7/dist-packages (from qiskit-terra==0.21.2->qiskit==0.38.0) (3.11)\n",
      "Requirement already satisfied: typing-extensions in /usr/local/lib/python3.7/dist-packages (from qiskit-terra==0.21.2->qiskit==0.38.0) (4.1.1)\n",
      "Requirement already satisfied: retworkx>=0.11.0 in /usr/local/lib/python3.7/dist-packages (from qiskit-terra==0.21.2->qiskit==0.38.0) (0.11.0)\n",
      "Requirement already satisfied: tweedledum<2.0,>=1.1 in /usr/local/lib/python3.7/dist-packages (from qiskit-terra==0.21.2->qiskit==0.38.0) (1.1.1)\n",
      "Requirement already satisfied: psutil>=5 in /usr/local/lib/python3.7/dist-packages (from qiskit-terra==0.21.2->qiskit==0.38.0) (5.4.8)\n",
      "Requirement already satisfied: stevedore>=3.0.0 in /usr/local/lib/python3.7/dist-packages (from qiskit-terra==0.21.2->qiskit==0.38.0) (3.5.0)\n",
      "Requirement already satisfied: six>=1.5 in /usr/local/lib/python3.7/dist-packages (from python-dateutil>=2.8.0->qiskit-ibmq-provider==0.19.2->qiskit==0.38.0) (1.15.0)\n",
      "Requirement already satisfied: certifi>=2017.4.17 in /usr/local/lib/python3.7/dist-packages (from requests>=2.19->qiskit-ibmq-provider==0.19.2->qiskit==0.38.0) (2022.6.15)\n",
      "Requirement already satisfied: idna<4,>=2.5 in /usr/local/lib/python3.7/dist-packages (from requests>=2.19->qiskit-ibmq-provider==0.19.2->qiskit==0.38.0) (2.10)\n",
      "Requirement already satisfied: charset-normalizer<3,>=2 in /usr/local/lib/python3.7/dist-packages (from requests>=2.19->qiskit-ibmq-provider==0.19.2->qiskit==0.38.0) (2.1.1)\n",
      "Requirement already satisfied: cryptography>=1.3 in /usr/local/lib/python3.7/dist-packages (from requests-ntlm>=1.1.0->qiskit-ibmq-provider==0.19.2->qiskit==0.38.0) (38.0.1)\n",
      "Requirement already satisfied: ntlm-auth>=1.0.2 in /usr/local/lib/python3.7/dist-packages (from requests-ntlm>=1.1.0->qiskit-ibmq-provider==0.19.2->qiskit==0.38.0) (1.5.0)\n",
      "Requirement already satisfied: cffi>=1.12 in /usr/local/lib/python3.7/dist-packages (from cryptography>=1.3->requests-ntlm>=1.1.0->qiskit-ibmq-provider==0.19.2->qiskit==0.38.0) (1.15.1)\n",
      "Requirement already satisfied: pycparser in /usr/local/lib/python3.7/dist-packages (from cffi>=1.12->cryptography>=1.3->requests-ntlm>=1.1.0->qiskit-ibmq-provider==0.19.2->qiskit==0.38.0) (2.21)\n",
      "Requirement already satisfied: pbr!=2.1.0,>=2.0.0 in /usr/local/lib/python3.7/dist-packages (from stevedore>=3.0.0->qiskit-terra==0.21.2->qiskit==0.38.0) (5.10.0)\n",
      "Requirement already satisfied: importlib-metadata>=1.7.0 in /usr/local/lib/python3.7/dist-packages (from stevedore>=3.0.0->qiskit-terra==0.21.2->qiskit==0.38.0) (4.12.0)\n",
      "Requirement already satisfied: zipp>=0.5 in /usr/local/lib/python3.7/dist-packages (from importlib-metadata>=1.7.0->stevedore>=3.0.0->qiskit-terra==0.21.2->qiskit==0.38.0) (3.8.1)\n",
      "Requirement already satisfied: mpmath>=0.19 in /usr/local/lib/python3.7/dist-packages (from sympy>=1.3->qiskit-terra==0.21.2->qiskit==0.38.0) (1.2.1)\n",
      "Installing collected packages: qiskit-ibmq-provider, qiskit-aer, qiskit\n",
      "  Attempting uninstall: qiskit-ibmq-provider\n",
      "    Found existing installation: qiskit-ibmq-provider 0.18.1\n",
      "    Uninstalling qiskit-ibmq-provider-0.18.1:\n",
      "      Successfully uninstalled qiskit-ibmq-provider-0.18.1\n",
      "  Attempting uninstall: qiskit-aer\n",
      "    Found existing installation: qiskit-aer 0.9.1\n",
      "    Uninstalling qiskit-aer-0.9.1:\n",
      "      Successfully uninstalled qiskit-aer-0.9.1\n",
      "  Attempting uninstall: qiskit\n",
      "    Found existing installation: qiskit 0.32.1\n",
      "    Uninstalling qiskit-0.32.1:\n",
      "      Successfully uninstalled qiskit-0.32.1\n",
      "\u001b[31mERROR: pip's dependency resolver does not currently take into account all the packages that are installed. This behaviour is the source of the following dependency conflicts.\n",
      "torchquantum 0.1.2 requires qiskit==0.32.1, but you have qiskit 0.38.0 which is incompatible.\u001b[0m\n",
      "Successfully installed qiskit-0.38.0 qiskit-aer-0.11.0 qiskit-ibmq-provider-0.19.2\n"
     ]
    },
    {
     "data": {
      "application/vnd.colab-display-data+json": {
       "pip_warning": {
        "packages": [
         "qiskit",
         "qiskit_aer"
        ]
       }
      }
     },
     "metadata": {},
     "output_type": "display_data"
    }
   ],
   "source": [
    "!pip install qiskit==0.38.0"
   ]
  },
  {
   "cell_type": "code",
   "execution_count": null,
   "metadata": {
    "colab": {
     "base_uri": "https://localhost:8080/",
     "height": 444
    },
    "id": "KNf52acguGpM",
    "outputId": "a85550dc-0493-4d9e-e32b-1442d7cb207d",
    "pycharm": {
     "name": "#%%\n"
    }
   },
   "outputs": [
    {
     "name": "stdout",
     "output_type": "stream",
     "text": [
      "Looking in indexes: https://pypi.org/simple, https://us-python.pkg.dev/colab-wheels/public/simple/\n",
      "Collecting matplotlib==3.1.3\n",
      "  Using cached matplotlib-3.1.3-cp37-cp37m-manylinux1_x86_64.whl (13.1 MB)\n",
      "Requirement already satisfied: python-dateutil>=2.1 in /usr/local/lib/python3.7/dist-packages (from matplotlib==3.1.3) (2.8.2)\n",
      "Requirement already satisfied: numpy>=1.11 in /usr/local/lib/python3.7/dist-packages (from matplotlib==3.1.3) (1.21.6)\n",
      "Requirement already satisfied: pyparsing!=2.0.4,!=2.1.2,!=2.1.6,>=2.0.1 in /usr/local/lib/python3.7/dist-packages (from matplotlib==3.1.3) (3.0.9)\n",
      "Requirement already satisfied: cycler>=0.10 in /usr/local/lib/python3.7/dist-packages (from matplotlib==3.1.3) (0.11.0)\n",
      "Requirement already satisfied: kiwisolver>=1.0.1 in /usr/local/lib/python3.7/dist-packages (from matplotlib==3.1.3) (1.4.4)\n",
      "Requirement already satisfied: typing-extensions in /usr/local/lib/python3.7/dist-packages (from kiwisolver>=1.0.1->matplotlib==3.1.3) (4.1.1)\n",
      "Requirement already satisfied: six>=1.5 in /usr/local/lib/python3.7/dist-packages (from python-dateutil>=2.1->matplotlib==3.1.3) (1.15.0)\n",
      "Installing collected packages: matplotlib\n",
      "  Attempting uninstall: matplotlib\n",
      "    Found existing installation: matplotlib 3.5.3\n",
      "    Uninstalling matplotlib-3.5.3:\n",
      "      Successfully uninstalled matplotlib-3.5.3\n",
      "\u001b[31mERROR: pip's dependency resolver does not currently take into account all the packages that are installed. This behaviour is the source of the following dependency conflicts.\n",
      "torchquantum 0.1.2 requires matplotlib>=3.3.2, but you have matplotlib 3.1.3 which is incompatible.\n",
      "torchquantum 0.1.2 requires qiskit==0.32.1, but you have qiskit 0.38.0 which is incompatible.\u001b[0m\n",
      "Successfully installed matplotlib-3.1.3\n"
     ]
    },
    {
     "data": {
      "application/vnd.colab-display-data+json": {
       "pip_warning": {
        "packages": [
         "matplotlib",
         "mpl_toolkits"
        ]
       }
      }
     },
     "metadata": {},
     "output_type": "display_data"
    }
   ],
   "source": [
    "!pip install matplotlib==3.1.3"
   ]
  },
  {
   "cell_type": "code",
   "execution_count": null,
   "metadata": {
    "id": "syQ7I8rEMI-H",
    "pycharm": {
     "name": "#%%\n"
    }
   },
   "outputs": [],
   "source": [
    "from torchquantum.pulse_utils import *\n",
    "import torch\n",
    "import torch.nn.functional as F\n",
    "import torch.optim as optim\n",
    "import argparse"
   ]
  },
  {
   "cell_type": "code",
   "execution_count": null,
   "metadata": {
    "id": "3KOs5g5ldqE3",
    "pycharm": {
     "name": "#%%\n"
    }
   },
   "outputs": [],
   "source": [
    "import torchquantum as tq\n",
    "import torchquantum.functional as tqf\n",
    "import pdb\n",
    "import numpy as np\n",
    "from matplotlib import pyplot as plt"
   ]
  },
  {
   "cell_type": "markdown",
   "metadata": {
    "id": "k4fF5ASdhqZX",
    "pycharm": {
     "name": "#%% md\n"
    }
   },
   "source": [
    "# **2.1 Quantum Optimal Control**"
   ]
  },
  {
   "cell_type": "markdown",
   "metadata": {
    "id": "kjLhsVWGG5u0",
    "pycharm": {
     "name": "#%% md\n"
    }
   },
   "source": [
    "Optimal control can be used to achieve efficient state preparation, state-to-state transfer or some unitary matrix on a quantum system. Current quantum systems can be manipulated in a controlled way, such as the time-varying amplitude of microwave pulses that act on a superconducting circuit.\n",
    "\n",
    "In the simple example below, QOC is used to achieve a rotation gate, and we use pulses to achieve such target. The pulses are composed of four time steps with different amplitudes. The control Hamiltonian is the Pauli-X. In this gradient-based optimization we will be able to achieve the target unitary with desired accuracy."
   ]
  },
  {
   "cell_type": "code",
   "execution_count": null,
   "metadata": {
    "colab": {
     "base_uri": "https://localhost:8080/",
     "height": 1000
    },
    "id": "fccmCcyOh1PA",
    "outputId": "952bf38a-d1f8-47f6-b8db-2b975c410b5e",
    "pycharm": {
     "name": "#%%\n"
    }
   },
   "outputs": [
    {
     "name": "stdout",
     "output_type": "stream",
     "text": [
      "Parameter containing:\n",
      "tensor([0.9950, 0.9950, 0.9950, 0.9950], requires_grad=True)\n",
      "tensor([[-0.6686+0.0000j,  0.0000+0.7436j],\n",
      "        [ 0.0000+0.7436j, -0.6686+0.0000j]], grad_fn=<MmBackward0>)\n",
      "Parameter containing:\n",
      "tensor([0.9900, 0.9900, 0.9900, 0.9900], requires_grad=True)\n",
      "tensor([[-0.6834+0.0000j,  0.0000+0.7300j],\n",
      "        [ 0.0000+0.7300j, -0.6834+0.0000j]], grad_fn=<MmBackward0>)\n",
      "Parameter containing:\n",
      "tensor([0.9850, 0.9850, 0.9850, 0.9850], requires_grad=True)\n",
      "tensor([[-0.6979+0.0000j,  0.0000+0.7162j],\n",
      "        [ 0.0000+0.7162j, -0.6979+0.0000j]], grad_fn=<MmBackward0>)\n",
      "Parameter containing:\n",
      "tensor([0.9800, 0.9800, 0.9800, 0.9800], requires_grad=True)\n",
      "tensor([[-0.7121+0.0000j,  0.0000+0.7021j],\n",
      "        [ 0.0000+0.7021j, -0.7121+0.0000j]], grad_fn=<MmBackward0>)\n",
      "Parameter containing:\n",
      "tensor([0.9749, 0.9749, 0.9749, 0.9749], requires_grad=True)\n",
      "tensor([[-0.7261+0.0000j,  0.0000+0.6876j],\n",
      "        [ 0.0000+0.6876j, -0.7261+0.0000j]], grad_fn=<MmBackward0>)\n",
      "Parameter containing:\n",
      "tensor([0.9699, 0.9699, 0.9699, 0.9699], requires_grad=True)\n",
      "tensor([[-0.7398+0.0000j,  0.0000+0.6728j],\n",
      "        [ 0.0000+0.6728j, -0.7398+0.0000j]], grad_fn=<MmBackward0>)\n",
      "Parameter containing:\n",
      "tensor([0.9649, 0.9649, 0.9649, 0.9649], requires_grad=True)\n",
      "tensor([[-0.7532+0.0000j,  0.0000+0.6577j],\n",
      "        [ 0.0000+0.6577j, -0.7532+0.0000j]], grad_fn=<MmBackward0>)\n",
      "Parameter containing:\n",
      "tensor([0.9598, 0.9598, 0.9598, 0.9598], requires_grad=True)\n",
      "tensor([[-0.7664+0.0000j,  0.0000+0.6423j],\n",
      "        [ 0.0000+0.6423j, -0.7664+0.0000j]], grad_fn=<MmBackward0>)\n",
      "Parameter containing:\n",
      "tensor([0.9547, 0.9547, 0.9547, 0.9547], requires_grad=True)\n",
      "tensor([[-0.7793+0.0000j,  0.0000+0.6266j],\n",
      "        [ 0.0000+0.6266j, -0.7793+0.0000j]], grad_fn=<MmBackward0>)\n",
      "Parameter containing:\n",
      "tensor([0.9496, 0.9496, 0.9496, 0.9496], requires_grad=True)\n",
      "tensor([[-0.7919+0.0000j,  0.0000+0.6106j],\n",
      "        [ 0.0000+0.6106j, -0.7919+0.0000j]], grad_fn=<MmBackward0>)\n",
      "Parameter containing:\n",
      "tensor([0.9445, 0.9445, 0.9445, 0.9445], requires_grad=True)\n",
      "tensor([[-0.8042+0.0000j,  0.0000+0.5943j],\n",
      "        [ 0.0000+0.5943j, -0.8042+0.0000j]], grad_fn=<MmBackward0>)\n",
      "Parameter containing:\n",
      "tensor([0.9394, 0.9394, 0.9394, 0.9394], requires_grad=True)\n",
      "tensor([[-0.8162+0.0000j,  0.0000+0.5777j],\n",
      "        [ 0.0000+0.5777j, -0.8162+0.0000j]], grad_fn=<MmBackward0>)\n",
      "Parameter containing:\n",
      "tensor([0.9342, 0.9342, 0.9342, 0.9342], requires_grad=True)\n",
      "tensor([[-0.8279+0.0000j,  0.0000+0.5608j],\n",
      "        [ 0.0000+0.5608j, -0.8279+0.0000j]], grad_fn=<MmBackward0>)\n",
      "Parameter containing:\n",
      "tensor([0.9291, 0.9291, 0.9291, 0.9291], requires_grad=True)\n",
      "tensor([[-0.8393+0.0000j,  0.0000+0.5437j],\n",
      "        [ 0.0000+0.5437j, -0.8393+0.0000j]], grad_fn=<MmBackward0>)\n",
      "Parameter containing:\n",
      "tensor([0.9239, 0.9239, 0.9239, 0.9239], requires_grad=True)\n",
      "tensor([[-0.8504+0.0000j,  0.0000+0.5262j],\n",
      "        [ 0.0000+0.5262j, -0.8504+0.0000j]], grad_fn=<MmBackward0>)\n",
      "Parameter containing:\n",
      "tensor([0.9188, 0.9188, 0.9188, 0.9188], requires_grad=True)\n",
      "tensor([[-0.8611+0.0000j,  0.0000+0.5085j],\n",
      "        [ 0.0000+0.5085j, -0.8611+0.0000j]], grad_fn=<MmBackward0>)\n",
      "Parameter containing:\n",
      "tensor([0.9136, 0.9136, 0.9136, 0.9136], requires_grad=True)\n",
      "tensor([[-0.8714+0.0000j,  0.0000+0.4905j],\n",
      "        [ 0.0000+0.4905j, -0.8714+0.0000j]], grad_fn=<MmBackward0>)\n",
      "Parameter containing:\n",
      "tensor([0.9084, 0.9084, 0.9084, 0.9084], requires_grad=True)\n",
      "tensor([[-0.8814+0.0000j,  0.0000+0.4723j],\n",
      "        [ 0.0000+0.4723j, -0.8814+0.0000j]], grad_fn=<MmBackward0>)\n",
      "Parameter containing:\n",
      "tensor([0.9032, 0.9032, 0.9032, 0.9032], requires_grad=True)\n",
      "tensor([[-0.8911+0.0000j,  0.0000+0.4538j],\n",
      "        [ 0.0000+0.4538j, -0.8911+0.0000j]], grad_fn=<MmBackward0>)\n",
      "Parameter containing:\n",
      "tensor([0.8980, 0.8980, 0.8980, 0.8980], requires_grad=True)\n",
      "tensor([[-0.9003+0.0000j,  0.0000+0.4352j],\n",
      "        [ 0.0000+0.4352j, -0.9003+0.0000j]], grad_fn=<MmBackward0>)\n",
      "Parameter containing:\n",
      "tensor([0.8927, 0.8927, 0.8927, 0.8927], requires_grad=True)\n",
      "tensor([[-0.9092+0.0000j,  0.0000+0.4163j],\n",
      "        [ 0.0000+0.4163j, -0.9092+0.0000j]], grad_fn=<MmBackward0>)\n",
      "Parameter containing:\n",
      "tensor([0.8875, 0.8875, 0.8875, 0.8875], requires_grad=True)\n",
      "tensor([[-0.9177+0.0000j,  0.0000+0.3972j],\n",
      "        [ 0.0000+0.3972j, -0.9177+0.0000j]], grad_fn=<MmBackward0>)\n",
      "Parameter containing:\n",
      "tensor([0.8823, 0.8823, 0.8823, 0.8823], requires_grad=True)\n",
      "tensor([[-0.9258+0.0000j,  0.0000+0.3780j],\n",
      "        [ 0.0000+0.3780j, -0.9258+0.0000j]], grad_fn=<MmBackward0>)\n",
      "Parameter containing:\n",
      "tensor([0.8771, 0.8771, 0.8771, 0.8771], requires_grad=True)\n",
      "tensor([[-0.9335+0.0000j,  0.0000+0.3586j],\n",
      "        [ 0.0000+0.3586j, -0.9335+0.0000j]], grad_fn=<MmBackward0>)\n",
      "Parameter containing:\n",
      "tensor([0.8719, 0.8719, 0.8719, 0.8719], requires_grad=True)\n",
      "tensor([[-0.9407+0.0000j,  0.0000+0.3391j],\n",
      "        [ 0.0000+0.3391j, -0.9407+0.0000j]], grad_fn=<MmBackward0>)\n",
      "Parameter containing:\n",
      "tensor([0.8667, 0.8667, 0.8667, 0.8667], requires_grad=True)\n",
      "tensor([[-0.9476+0.0000j,  0.0000+0.3195j],\n",
      "        [ 0.0000+0.3195j, -0.9476+0.0000j]], grad_fn=<MmBackward0>)\n",
      "Parameter containing:\n",
      "tensor([0.8615, 0.8615, 0.8615, 0.8615], requires_grad=True)\n",
      "tensor([[-0.9540+0.0000j,  0.0000+0.2998j],\n",
      "        [ 0.0000+0.2998j, -0.9540+0.0000j]], grad_fn=<MmBackward0>)\n",
      "Parameter containing:\n",
      "tensor([0.8564, 0.8564, 0.8564, 0.8564], requires_grad=True)\n",
      "tensor([[-0.9600+0.0000j,  0.0000+0.2801j],\n",
      "        [ 0.0000+0.2801j, -0.9600+0.0000j]], grad_fn=<MmBackward0>)\n",
      "Parameter containing:\n",
      "tensor([0.8512, 0.8512, 0.8512, 0.8512], requires_grad=True)\n",
      "tensor([[-0.9655+0.0000j,  0.0000+0.2603j],\n",
      "        [ 0.0000+0.2603j, -0.9655+0.0000j]], grad_fn=<MmBackward0>)\n",
      "Parameter containing:\n",
      "tensor([0.8461, 0.8461, 0.8461, 0.8461], requires_grad=True)\n",
      "tensor([[-0.9707+0.0000j,  0.0000+0.2405j],\n",
      "        [ 0.0000+0.2405j, -0.9707+0.0000j]], grad_fn=<MmBackward0>)\n",
      "Parameter containing:\n",
      "tensor([0.8410, 0.8410, 0.8410, 0.8410], requires_grad=True)\n",
      "tensor([[-0.9753+0.0000j,  0.0000+0.2207j],\n",
      "        [ 0.0000+0.2207j, -0.9753+0.0000j]], grad_fn=<MmBackward0>)\n",
      "Parameter containing:\n",
      "tensor([0.8360, 0.8360, 0.8360, 0.8360], requires_grad=True)\n",
      "tensor([[-0.9796+0.0000j,  0.0000+0.2009j],\n",
      "        [ 0.0000+0.2009j, -0.9796+0.0000j]], grad_fn=<MmBackward0>)\n",
      "Parameter containing:\n",
      "tensor([0.8310, 0.8310, 0.8310, 0.8310], requires_grad=True)\n",
      "tensor([[-0.9834+0.0000j,  0.0000+0.1812j],\n",
      "        [ 0.0000+0.1812j, -0.9834+0.0000j]], grad_fn=<MmBackward0>)\n",
      "Parameter containing:\n",
      "tensor([0.8260, 0.8260, 0.8260, 0.8260], requires_grad=True)\n",
      "tensor([[-0.9869+0.0000j,  0.0000+0.1616j],\n",
      "        [ 0.0000+0.1616j, -0.9869+0.0000j]], grad_fn=<MmBackward0>)\n",
      "Parameter containing:\n",
      "tensor([0.8211, 0.8211, 0.8211, 0.8211], requires_grad=True)\n",
      "tensor([[-0.9898+0.0000j,  0.0000+0.1422j],\n",
      "        [ 0.0000+0.1422j, -0.9898+0.0000j]], grad_fn=<MmBackward0>)\n",
      "Parameter containing:\n",
      "tensor([0.8162, 0.8162, 0.8162, 0.8162], requires_grad=True)\n",
      "tensor([[-0.9924+0.0000j,  0.0000+0.1229j],\n",
      "        [ 0.0000+0.1229j, -0.9924+0.0000j]], grad_fn=<MmBackward0>)\n",
      "Parameter containing:\n",
      "tensor([0.8114, 0.8114, 0.8114, 0.8114], requires_grad=True)\n",
      "tensor([[-0.9946+0.0000j,  0.0000+0.1037j],\n",
      "        [ 0.0000+0.1037j, -0.9946+0.0000j]], grad_fn=<MmBackward0>)\n",
      "Parameter containing:\n",
      "tensor([0.8066, 0.8066, 0.8066, 0.8066], requires_grad=True)\n",
      "tensor([[-0.9964+0.0000j,  0.0000+0.0848j],\n",
      "        [ 0.0000+0.0848j, -0.9964+0.0000j]], grad_fn=<MmBackward0>)\n",
      "Parameter containing:\n",
      "tensor([0.8019, 0.8019, 0.8019, 0.8019], requires_grad=True)\n",
      "tensor([[-0.9978+0.0000j,  0.0000+0.0661j],\n",
      "        [ 0.0000+0.0661j, -0.9978+0.0000j]], grad_fn=<MmBackward0>)\n",
      "Parameter containing:\n",
      "tensor([0.7973, 0.7973, 0.7973, 0.7973], requires_grad=True)\n",
      "tensor([[-0.9989+0.0000j,  0.0000+0.0477j],\n",
      "        [ 0.0000+0.0477j, -0.9989+0.0000j]], grad_fn=<MmBackward0>)\n",
      "Parameter containing:\n",
      "tensor([0.7928, 0.7928, 0.7928, 0.7928], requires_grad=True)\n",
      "tensor([[-0.9996+0.0000j,  0.0000+0.0296j],\n",
      "        [ 0.0000+0.0296j, -0.9996+0.0000j]], grad_fn=<MmBackward0>)\n",
      "Parameter containing:\n",
      "tensor([0.7883, 0.7883, 0.7883, 0.7883], requires_grad=True)\n",
      "tensor([[-0.9999+0.0000j,  0.0000+0.0118j],\n",
      "        [ 0.0000+0.0118j, -0.9999+0.0000j]], grad_fn=<MmBackward0>)\n",
      "Parameter containing:\n",
      "tensor([0.7840, 0.7840, 0.7840, 0.7840], requires_grad=True)\n",
      "tensor([[-1.0000+0.0000j,  0.0000-0.0057j],\n",
      "        [ 0.0000-0.0057j, -1.0000+0.0000j]], grad_fn=<MmBackward0>)\n",
      "Parameter containing:\n",
      "tensor([0.7797, 0.7797, 0.7797, 0.7797], requires_grad=True)\n",
      "tensor([[-0.9997+0.0000j,  0.0000-0.0228j],\n",
      "        [ 0.0000-0.0228j, -0.9997+0.0000j]], grad_fn=<MmBackward0>)\n",
      "Parameter containing:\n",
      "tensor([0.7755, 0.7755, 0.7755, 0.7755], requires_grad=True)\n",
      "tensor([[-0.9992+0.0000j,  0.0000-0.0395j],\n",
      "        [ 0.0000-0.0395j, -0.9992+0.0000j]], grad_fn=<MmBackward0>)\n",
      "Parameter containing:\n",
      "tensor([0.7714, 0.7714, 0.7714, 0.7714], requires_grad=True)\n",
      "tensor([[-0.9984+0.0000j,  0.0000-0.0558j],\n",
      "        [ 0.0000-0.0558j, -0.9984+0.0000j]], grad_fn=<MmBackward0>)\n",
      "Parameter containing:\n",
      "tensor([0.7675, 0.7675, 0.7675, 0.7675], requires_grad=True)\n",
      "tensor([[-0.9974+0.0000j,  0.0000-0.0716j],\n",
      "        [ 0.0000-0.0716j, -0.9974+0.0000j]], grad_fn=<MmBackward0>)\n",
      "Parameter containing:\n",
      "tensor([0.7636, 0.7636, 0.7636, 0.7636], requires_grad=True)\n",
      "tensor([[-0.9962+0.0000j,  0.0000-0.0870j],\n",
      "        [ 0.0000-0.0870j, -0.9962+0.0000j]], grad_fn=<MmBackward0>)\n",
      "Parameter containing:\n",
      "tensor([0.7599, 0.7599, 0.7599, 0.7599], requires_grad=True)\n",
      "tensor([[-0.9948+0.0000j,  0.0000-0.1020j],\n",
      "        [ 0.0000-0.1020j, -0.9948+0.0000j]], grad_fn=<MmBackward0>)\n",
      "Parameter containing:\n",
      "tensor([0.7562, 0.7562, 0.7562, 0.7562], requires_grad=True)\n",
      "tensor([[-0.9932+0.0000j,  0.0000-0.1164j],\n",
      "        [ 0.0000-0.1164j, -0.9932+0.0000j]], grad_fn=<MmBackward0>)\n",
      "Parameter containing:\n",
      "tensor([0.7527, 0.7527, 0.7527, 0.7527], requires_grad=True)\n",
      "tensor([[-0.9915+0.0000j,  0.0000-0.1303j],\n",
      "        [ 0.0000-0.1303j, -0.9915+0.0000j]], grad_fn=<MmBackward0>)\n",
      "Parameter containing:\n",
      "tensor([0.7493, 0.7493, 0.7493, 0.7493], requires_grad=True)\n",
      "tensor([[-0.9896+0.0000j,  0.0000-0.1438j],\n",
      "        [ 0.0000-0.1438j, -0.9896+0.0000j]], grad_fn=<MmBackward0>)\n",
      "Parameter containing:\n",
      "tensor([0.7461, 0.7461, 0.7461, 0.7461], requires_grad=True)\n",
      "tensor([[-0.9876+0.0000j,  0.0000-0.1567j],\n",
      "        [ 0.0000-0.1567j, -0.9876+0.0000j]], grad_fn=<MmBackward0>)\n",
      "Parameter containing:\n",
      "tensor([0.7429, 0.7429, 0.7429, 0.7429], requires_grad=True)\n",
      "tensor([[-0.9856+0.0000j,  0.0000-0.1691j],\n",
      "        [ 0.0000-0.1691j, -0.9856+0.0000j]], grad_fn=<MmBackward0>)\n",
      "Parameter containing:\n",
      "tensor([0.7399, 0.7399, 0.7399, 0.7399], requires_grad=True)\n",
      "tensor([[-0.9835+0.0000j,  0.0000-0.1809j],\n",
      "        [ 0.0000-0.1809j, -0.9835+0.0000j]], grad_fn=<MmBackward0>)\n",
      "Parameter containing:\n",
      "tensor([0.7370, 0.7370, 0.7370, 0.7370], requires_grad=True)\n",
      "tensor([[-0.9814+0.0000j,  0.0000-0.1922j],\n",
      "        [ 0.0000-0.1922j, -0.9814+0.0000j]], grad_fn=<MmBackward0>)\n",
      "Parameter containing:\n",
      "tensor([0.7343, 0.7343, 0.7343, 0.7343], requires_grad=True)\n",
      "tensor([[-0.9792+0.0000j,  0.0000-0.2030j],\n",
      "        [ 0.0000-0.2030j, -0.9792+0.0000j]], grad_fn=<MmBackward0>)\n",
      "Parameter containing:\n",
      "tensor([0.7317, 0.7317, 0.7317, 0.7317], requires_grad=True)\n",
      "tensor([[-0.9770+0.0000j,  0.0000-0.2132j],\n",
      "        [ 0.0000-0.2132j, -0.9770+0.0000j]], grad_fn=<MmBackward0>)\n",
      "Parameter containing:\n",
      "tensor([0.7292, 0.7292, 0.7292, 0.7292], requires_grad=True)\n",
      "tensor([[-0.9748+0.0000j,  0.0000-0.2229j],\n",
      "        [ 0.0000-0.2229j, -0.9748+0.0000j]], grad_fn=<MmBackward0>)\n",
      "Parameter containing:\n",
      "tensor([0.7268, 0.7268, 0.7268, 0.7268], requires_grad=True)\n",
      "tensor([[-0.9727+0.0000j,  0.0000-0.2321j],\n",
      "        [ 0.0000-0.2321j, -0.9727+0.0000j]], grad_fn=<MmBackward0>)\n",
      "Parameter containing:\n",
      "tensor([0.7246, 0.7246, 0.7246, 0.7246], requires_grad=True)\n",
      "tensor([[-0.9706+0.0000j,  0.0000-0.2407j],\n",
      "        [ 0.0000-0.2407j, -0.9706+0.0000j]], grad_fn=<MmBackward0>)\n",
      "Parameter containing:\n",
      "tensor([0.7225, 0.7225, 0.7225, 0.7225], requires_grad=True)\n",
      "tensor([[-0.9686+0.0000j,  0.0000-0.2488j],\n",
      "        [ 0.0000-0.2488j, -0.9686+0.0000j]], grad_fn=<MmBackward0>)\n",
      "Parameter containing:\n",
      "tensor([0.7206, 0.7206, 0.7206, 0.7206], requires_grad=True)\n",
      "tensor([[-0.9666+0.0000j,  0.0000-0.2564j],\n",
      "        [ 0.0000-0.2564j, -0.9666+0.0000j]], grad_fn=<MmBackward0>)\n",
      "Parameter containing:\n",
      "tensor([0.7187, 0.7187, 0.7187, 0.7187], requires_grad=True)\n",
      "tensor([[-0.9647+0.0000j,  0.0000-0.2635j],\n",
      "        [ 0.0000-0.2635j, -0.9647+0.0000j]], grad_fn=<MmBackward0>)\n",
      "Parameter containing:\n",
      "tensor([0.7170, 0.7170, 0.7170, 0.7170], requires_grad=True)\n",
      "tensor([[-0.9628+0.0000j,  0.0000-0.2700j],\n",
      "        [ 0.0000-0.2700j, -0.9628+0.0000j]], grad_fn=<MmBackward0>)\n",
      "Parameter containing:\n",
      "tensor([0.7155, 0.7155, 0.7155, 0.7155], requires_grad=True)\n",
      "tensor([[-0.9611+0.0000j,  0.0000-0.2761j],\n",
      "        [ 0.0000-0.2761j, -0.9611+0.0000j]], grad_fn=<MmBackward0>)\n",
      "Parameter containing:\n",
      "tensor([0.7140, 0.7140, 0.7140, 0.7140], requires_grad=True)\n",
      "tensor([[-0.9595+0.0000j,  0.0000-0.2818j],\n",
      "        [ 0.0000-0.2818j, -0.9595+0.0000j]], grad_fn=<MmBackward0>)\n",
      "Parameter containing:\n",
      "tensor([0.7126, 0.7126, 0.7126, 0.7126], requires_grad=True)\n",
      "tensor([[-0.9579+0.0000j,  0.0000-0.2869j],\n",
      "        [ 0.0000-0.2869j, -0.9579+0.0000j]], grad_fn=<MmBackward0>)\n",
      "Parameter containing:\n",
      "tensor([0.7114, 0.7114, 0.7114, 0.7114], requires_grad=True)\n",
      "tensor([[-0.9565+0.0000j,  0.0000-0.2917j],\n",
      "        [ 0.0000-0.2917j, -0.9565+0.0000j]], grad_fn=<MmBackward0>)\n",
      "Parameter containing:\n",
      "tensor([0.7103, 0.7103, 0.7103, 0.7103], requires_grad=True)\n",
      "tensor([[-0.9552+0.0000j,  0.0000-0.2960j],\n",
      "        [ 0.0000-0.2960j, -0.9552+0.0000j]], grad_fn=<MmBackward0>)\n",
      "Parameter containing:\n",
      "tensor([0.7093, 0.7093, 0.7093, 0.7093], requires_grad=True)\n",
      "tensor([[-0.9540+0.0000j,  0.0000-0.2999j],\n",
      "        [ 0.0000-0.2999j, -0.9540+0.0000j]], grad_fn=<MmBackward0>)\n",
      "Parameter containing:\n",
      "tensor([0.7083, 0.7083, 0.7083, 0.7083], requires_grad=True)\n",
      "tensor([[-0.9529+0.0000j,  0.0000-0.3034j],\n",
      "        [ 0.0000-0.3034j, -0.9529+0.0000j]], grad_fn=<MmBackward0>)\n",
      "Parameter containing:\n",
      "tensor([0.7075, 0.7075, 0.7075, 0.7075], requires_grad=True)\n",
      "tensor([[-0.9519+0.0000j,  0.0000-0.3065j],\n",
      "        [ 0.0000-0.3065j, -0.9519+0.0000j]], grad_fn=<MmBackward0>)\n",
      "Parameter containing:\n",
      "tensor([0.7068, 0.7068, 0.7068, 0.7068], requires_grad=True)\n",
      "tensor([[-0.9510+0.0000j,  0.0000-0.3093j],\n",
      "        [ 0.0000-0.3093j, -0.9510+0.0000j]], grad_fn=<MmBackward0>)\n",
      "Parameter containing:\n",
      "tensor([0.7062, 0.7062, 0.7062, 0.7062], requires_grad=True)\n",
      "tensor([[-0.9502+0.0000j,  0.0000-0.3117j],\n",
      "        [ 0.0000-0.3117j, -0.9502+0.0000j]], grad_fn=<MmBackward0>)\n",
      "Parameter containing:\n",
      "tensor([0.7056, 0.7056, 0.7056, 0.7056], requires_grad=True)\n",
      "tensor([[-0.9495+0.0000j,  0.0000-0.3138j],\n",
      "        [ 0.0000-0.3138j, -0.9495+0.0000j]], grad_fn=<MmBackward0>)\n",
      "Parameter containing:\n",
      "tensor([0.7051, 0.7051, 0.7051, 0.7051], requires_grad=True)\n",
      "tensor([[-0.9489+0.0000j,  0.0000-0.3156j],\n",
      "        [ 0.0000-0.3156j, -0.9489+0.0000j]], grad_fn=<MmBackward0>)\n",
      "Parameter containing:\n",
      "tensor([0.7047, 0.7047, 0.7047, 0.7047], requires_grad=True)\n",
      "tensor([[-0.9484+0.0000j,  0.0000-0.3171j],\n",
      "        [ 0.0000-0.3171j, -0.9484+0.0000j]], grad_fn=<MmBackward0>)\n",
      "Parameter containing:\n",
      "tensor([0.7044, 0.7044, 0.7044, 0.7044], requires_grad=True)\n",
      "tensor([[-0.9480+0.0000j,  0.0000-0.3183j],\n",
      "        [ 0.0000-0.3183j, -0.9480+0.0000j]], grad_fn=<MmBackward0>)\n",
      "Parameter containing:\n",
      "tensor([0.7041, 0.7041, 0.7041, 0.7041], requires_grad=True)\n",
      "tensor([[-0.9476+0.0000j,  0.0000-0.3193j],\n",
      "        [ 0.0000-0.3193j, -0.9476+0.0000j]], grad_fn=<MmBackward0>)\n",
      "Parameter containing:\n",
      "tensor([0.7040, 0.7040, 0.7040, 0.7040], requires_grad=True)\n",
      "tensor([[-0.9474+0.0000j,  0.0000-0.3201j],\n",
      "        [ 0.0000-0.3201j, -0.9474+0.0000j]], grad_fn=<MmBackward0>)\n",
      "Parameter containing:\n",
      "tensor([0.7038, 0.7038, 0.7038, 0.7038], requires_grad=True)\n",
      "tensor([[-0.9472+0.0000j,  0.0000-0.3206j],\n",
      "        [ 0.0000-0.3206j, -0.9472+0.0000j]], grad_fn=<MmBackward0>)\n",
      "Parameter containing:\n",
      "tensor([0.7037, 0.7037, 0.7037, 0.7037], requires_grad=True)\n",
      "tensor([[-0.9471+0.0000j,  0.0000-0.3209j],\n",
      "        [ 0.0000-0.3209j, -0.9471+0.0000j]], grad_fn=<MmBackward0>)\n",
      "Parameter containing:\n",
      "tensor([0.7037, 0.7037, 0.7037, 0.7037], requires_grad=True)\n",
      "tensor([[-0.9471+0.0000j,  0.0000-0.3210j],\n",
      "        [ 0.0000-0.3210j, -0.9471+0.0000j]], grad_fn=<MmBackward0>)\n",
      "Parameter containing:\n",
      "tensor([0.7037, 0.7037, 0.7037, 0.7037], requires_grad=True)\n",
      "tensor([[-0.9471+0.0000j,  0.0000-0.3210j],\n",
      "        [ 0.0000-0.3210j, -0.9471+0.0000j]], grad_fn=<MmBackward0>)\n",
      "Parameter containing:\n",
      "tensor([0.7038, 0.7038, 0.7038, 0.7038], requires_grad=True)\n",
      "tensor([[-0.9471+0.0000j,  0.0000-0.3208j],\n",
      "        [ 0.0000-0.3208j, -0.9471+0.0000j]], grad_fn=<MmBackward0>)\n",
      "Parameter containing:\n",
      "tensor([0.7038, 0.7038, 0.7038, 0.7038], requires_grad=True)\n",
      "tensor([[-0.9473+0.0000j,  0.0000-0.3205j],\n",
      "        [ 0.0000-0.3205j, -0.9473+0.0000j]], grad_fn=<MmBackward0>)\n",
      "Parameter containing:\n",
      "tensor([0.7040, 0.7040, 0.7040, 0.7040], requires_grad=True)\n",
      "tensor([[-0.9474+0.0000j,  0.0000-0.3200j],\n",
      "        [ 0.0000-0.3200j, -0.9474+0.0000j]], grad_fn=<MmBackward0>)\n",
      "Parameter containing:\n",
      "tensor([0.7041, 0.7041, 0.7041, 0.7041], requires_grad=True)\n",
      "tensor([[-0.9476+0.0000j,  0.0000-0.3194j],\n",
      "        [ 0.0000-0.3194j, -0.9476+0.0000j]], grad_fn=<MmBackward0>)\n",
      "Parameter containing:\n",
      "tensor([0.7043, 0.7043, 0.7043, 0.7043], requires_grad=True)\n",
      "tensor([[-0.9478+0.0000j,  0.0000-0.3187j],\n",
      "        [ 0.0000-0.3187j, -0.9478+0.0000j]], grad_fn=<MmBackward0>)\n",
      "Parameter containing:\n",
      "tensor([0.7045, 0.7045, 0.7045, 0.7045], requires_grad=True)\n",
      "tensor([[-0.9481+0.0000j,  0.0000-0.3180j],\n",
      "        [ 0.0000-0.3180j, -0.9481+0.0000j]], grad_fn=<MmBackward0>)\n",
      "Parameter containing:\n",
      "tensor([0.7047, 0.7047, 0.7047, 0.7047], requires_grad=True)\n",
      "tensor([[-0.9484+0.0000j,  0.0000-0.3172j],\n",
      "        [ 0.0000-0.3172j, -0.9484+0.0000j]], grad_fn=<MmBackward0>)\n",
      "Parameter containing:\n",
      "tensor([0.7050, 0.7050, 0.7050, 0.7050], requires_grad=True)\n",
      "tensor([[-0.9487+0.0000j,  0.0000-0.3163j],\n",
      "        [ 0.0000-0.3163j, -0.9487+0.0000j]], grad_fn=<MmBackward0>)\n",
      "Parameter containing:\n",
      "tensor([0.7052, 0.7052, 0.7052, 0.7052], requires_grad=True)\n",
      "tensor([[-0.9490+0.0000j,  0.0000-0.3153j],\n",
      "        [ 0.0000-0.3153j, -0.9490+0.0000j]], grad_fn=<MmBackward0>)\n",
      "Parameter containing:\n",
      "tensor([0.7055, 0.7055, 0.7055, 0.7055], requires_grad=True)\n",
      "tensor([[-0.9493+0.0000j,  0.0000-0.3143j],\n",
      "        [ 0.0000-0.3143j, -0.9493+0.0000j]], grad_fn=<MmBackward0>)\n",
      "Parameter containing:\n",
      "tensor([0.7057, 0.7057, 0.7057, 0.7057], requires_grad=True)\n",
      "tensor([[-0.9497+0.0000j,  0.0000-0.3133j],\n",
      "        [ 0.0000-0.3133j, -0.9497+0.0000j]], grad_fn=<MmBackward0>)\n",
      "Parameter containing:\n",
      "tensor([0.7060, 0.7060, 0.7060, 0.7060], requires_grad=True)\n",
      "tensor([[-0.9500+0.0000j,  0.0000-0.3123j],\n",
      "        [ 0.0000-0.3123j, -0.9500+0.0000j]], grad_fn=<MmBackward0>)\n",
      "Parameter containing:\n",
      "tensor([0.7063, 0.7063, 0.7063, 0.7063], requires_grad=True)\n",
      "tensor([[-0.9503+0.0000j,  0.0000-0.3112j],\n",
      "        [ 0.0000-0.3112j, -0.9503+0.0000j]], grad_fn=<MmBackward0>)\n",
      "Parameter containing:\n",
      "tensor([0.7066, 0.7066, 0.7066, 0.7066], requires_grad=True)\n",
      "tensor([[-0.9507+0.0000j,  0.0000-0.3101j],\n",
      "        [ 0.0000-0.3101j, -0.9507+0.0000j]], grad_fn=<MmBackward0>)\n",
      "Parameter containing:\n",
      "tensor([0.7068, 0.7068, 0.7068, 0.7068], requires_grad=True)\n",
      "tensor([[-0.9510+0.0000j,  0.0000-0.3091j],\n",
      "        [ 0.0000-0.3091j, -0.9510+0.0000j]], grad_fn=<MmBackward0>)\n"
     ]
    },
    {
     "data": {
      "text/plain": [
       "[<matplotlib.lines.Line2D at 0x7fdcc725dc10>]"
      ]
     },
     "execution_count": 59,
     "metadata": {},
     "output_type": "execute_result"
    },
    {
     "data": {
      "image/png": "[encoded data removed]",
      "text/plain": [
       "<Figure size 432x288 with 1 Axes>"
      ]
     },
     "metadata": {
      "needs_background": "light"
     },
     "output_type": "display_data"
    }
   ],
   "source": [
    "theta = 0.6\n",
    "target_unitary = torch.tensor([[np.cos(theta/2), -1j*np.sin(theta/2)], [-1j*np.sin(theta/2), np.cos(theta/2)]], dtype=torch.complex64)\n",
    "# The target_unitary is a simple rotation gate with angle = 0.6;\n",
    "pulse = tq.QuantumPulseDirect(n_steps=4,\n",
    "                              hamil=[[0, 1], [1, 0]])\n",
    "# The pulse has 4 time slots and the drive Hamiltonian is the Pauli-X.\n",
    "optimizer = optim.Adam(params=pulse.parameters(),  lr=5e-3)\n",
    "\n",
    "# TODO(jinleic): \n",
    "# add Bloch Sphere here\n",
    "# add figure for pulse time slots\n",
    "# Can we see the learning curve?\n",
    "losses = []\n",
    "\n",
    "for k in range(100):\n",
    "    # loss = (abs(pulse.get_unitary() - target_unitary)**2).sum()\n",
    "    loss = 1 - (torch.trace(pulse.get_unitary() @ target_unitary) / target_unitary.shape[0]).abs() ** 2\n",
    "    optimizer.zero_grad()\n",
    "    loss.backward()\n",
    "    optimizer.step()\n",
    "    losses.append(loss.item())\n",
    "    # print(pulse.pulse_shape.grad)\n",
    "    # print(loss)\n",
    "    print(pulse.pulse_shape)\n",
    "    print(pulse.get_unitary())\n",
    "plt.xlabel(\"Number of Iterations\")\n",
    "plt.ylabel(\"Training Losses\")\n",
    "plt.title(\"Training from Default Initialization\")\n",
    "plt.plot(losses[:100])"
   ]
  },
  {
   "cell_type": "markdown",
   "metadata": {
    "id": "rkK0N1VaHS_-",
    "pycharm": {
     "name": "#%% md\n"
    }
   },
   "source": [
    "Since the pulses are generated in an iterative way. The initialization of pulses will influence the number of iterations. It would be great if we can choose a better starting point. Intuitively, if pulses are initialized from a \"close\" or \"similar\" target unitary matrix, we will able to reduce the number of iterations. In the following example, we simply show that the pulses are initialized from previous unitary matrix and it can help achieve convergence faster."
   ]
  },
  {
   "cell_type": "markdown",
   "metadata": {
    "id": "HB4WtwxOe6mQ",
    "pycharm": {
     "name": "#%% md\n"
    }
   },
   "source": [
    "# **2.2 Variational Pulse Learning**"
   ]
  },
  {
   "cell_type": "markdown",
   "metadata": {
    "id": "DCqFYkPKKNMV",
    "pycharm": {
     "name": "#%% md\n"
    }
   },
   "source": [
    "Varitional pulse control schme is designed to avoid drawbacks of gate level approaches as well as quantum optimal control. We try to find a intermdiate level of pulse control abstraction and post optimization algorithms to improve the pulses and finally achieves better performance on quantum algorithm on NISQ machines."
   ]
  },
  {
   "cell_type": "markdown",
   "metadata": {
    "id": "opXOGoIvhGNU",
    "pycharm": {
     "name": "#%% md\n"
    }
   },
   "source": [
    "## **Native Pulse Build-up**"
   ]
  },
  {
   "cell_type": "markdown",
   "metadata": {
    "id": "dGqKFAf0hZQC",
    "pycharm": {
     "name": "#%% md\n"
    }
   },
   "source": [
    "Set the backend, please note that pulse is hardware dependent, it varying with every calibration and also different with devices."
   ]
  },
  {
   "cell_type": "code",
   "execution_count": null,
   "metadata": {
    "id": "xmlJ7kRkM0lv",
    "pycharm": {
     "name": "#%%\n"
    }
   },
   "outputs": [],
   "source": [
    "backend = FakeJakarta()"
   ]
  },
  {
   "cell_type": "markdown",
   "metadata": {
    "id": "wZz_PMfdhoP9",
    "pycharm": {
     "name": "#%% md\n"
    }
   },
   "source": [
    "SNP is namly a single-qubit native pulse, and TNP is two-qubit native pulse, we use this as a example to build the pulse ansatz for VQE task."
   ]
  },
  {
   "cell_type": "code",
   "execution_count": null,
   "metadata": {
    "colab": {
     "base_uri": "https://localhost:8080/",
     "height": 177
    },
    "id": "HTnB6_GXuhDU",
    "outputId": "bdb5ac2c-e0b0-45cd-d9a8-7ac4d4273908",
    "pycharm": {
     "name": "#%%\n"
    }
   },
   "outputs": [
    {
     "data": {
      "image/png": "[encoded data removed]",
      "text/plain": [
       "<Figure size 936x118.8 with 1 Axes>"
      ]
     },
     "execution_count": 64,
     "metadata": {},
     "output_type": "execute_result"
    }
   ],
   "source": [
    "sched0 = snp(0, backend)\n",
    "sched0.draw()"
   ]
  },
  {
   "cell_type": "code",
   "execution_count": null,
   "metadata": {
    "colab": {
     "base_uri": "https://localhost:8080/",
     "height": 177
    },
    "id": "wyhu4poTM38D",
    "outputId": "dcc716a0-8051-48ab-e7a5-ab5a3744d725",
    "pycharm": {
     "name": "#%%\n"
    }
   },
   "outputs": [
    {
     "data": {
      "image/png": "[encoded data removed]",
      "text/plain": [
       "<Figure size 936x118.8 with 1 Axes>"
      ]
     },
     "execution_count": 65,
     "metadata": {},
     "output_type": "execute_result"
    }
   ],
   "source": [
    "sched1 = snp(1, backend)\n",
    "sched1.draw()"
   ]
  },
  {
   "cell_type": "code",
   "execution_count": null,
   "metadata": {
    "colab": {
     "base_uri": "https://localhost:8080/",
     "height": 503
    },
    "id": "puS0a_FWM-Nc",
    "outputId": "95ca2a74-00cd-44d9-d5c2-3364ef381865",
    "pycharm": {
     "name": "#%%\n"
    }
   },
   "outputs": [
    {
     "data": {
      "image/png": "[encoded data removed]",
      "text/plain": [
       "<Figure size 936x550.8 with 1 Axes>"
      ]
     },
     "execution_count": 66,
     "metadata": {},
     "output_type": "execute_result"
    }
   ],
   "source": [
    "sched2 = tnp(0,1,backend)\n",
    "sched2.draw()"
   ]
  },
  {
   "cell_type": "markdown",
   "metadata": {
    "id": "m_ZqZASuh813",
    "pycharm": {
     "name": "#%% md\n"
    }
   },
   "source": [
    "pul_append is a method to combine two schedules."
   ]
  },
  {
   "cell_type": "code",
   "execution_count": null,
   "metadata": {
    "colab": {
     "base_uri": "https://localhost:8080/",
     "height": 266
    },
    "id": "3RX66l2GNCsw",
    "outputId": "7f33c770-fca7-44c8-b64e-c250348875ce",
    "pycharm": {
     "name": "#%%\n"
    }
   },
   "outputs": [
    {
     "data": {
      "image/png": "[encoded data removed]",
      "text/plain": [
       "<Figure size 936x237.6 with 1 Axes>"
      ]
     },
     "execution_count": 67,
     "metadata": {},
     "output_type": "execute_result"
    }
   ],
   "source": [
    "pulse_ansatz = pul_append(sched0, sched1)\n",
    "pulse_ansatz.draw()"
   ]
  },
  {
   "cell_type": "code",
   "execution_count": null,
   "metadata": {
    "colab": {
     "base_uri": "https://localhost:8080/",
     "height": 503
    },
    "id": "dvQiHIEIRE4s",
    "outputId": "cb51438a-ac1a-4bd8-e38f-bce1d4ca6c7a",
    "pycharm": {
     "name": "#%%\n"
    }
   },
   "outputs": [
    {
     "data": {
      "image/png": "[encoded data removed]",
      "text/plain": [
       "<Figure size 936x550.8 with 1 Axes>"
      ]
     },
     "execution_count": 68,
     "metadata": {},
     "output_type": "execute_result"
    }
   ],
   "source": [
    "pulse_ansatz = pul_append(pulse_ansatz, sched2)\n",
    "pulse_ansatz.draw()"
   ]
  },
  {
   "cell_type": "markdown",
   "metadata": {
    "id": "HPJYbvz9iG5B",
    "pycharm": {
     "name": "#%% md\n"
    }
   },
   "source": [
    "In torchquantum, extract_amp can use to get the amplitudes from pulses, you can also choose extract_realamp for only the real part of pulse amplitudes and ignore the imaginary part. We also have extract_phase to get the classical phase from pulses."
   ]
  },
  {
   "cell_type": "code",
   "execution_count": null,
   "metadata": {
    "colab": {
     "base_uri": "https://localhost:8080/"
    },
    "id": "uy5dxMqCNJeg",
    "outputId": "3e7636b0-91a2-4a10-9b91-1c773db9c6b1",
    "pycharm": {
     "name": "#%%\n"
    }
   },
   "outputs": [
    {
     "name": "stdout",
     "output_type": "stream",
     "text": [
      "[ 0.1007186   0.00833101  0.096837    0.02080554  0.20122114 -1.57079633\n",
      "  0.096837    0.02080554  0.11225338  0.01509274  0.7727792  -2.96348159\n",
      "  0.20122114  0.          0.11225338 -3.12649991  0.7727792   0.17811106]\n"
     ]
    }
   ],
   "source": [
    "parameters_array = extract_amp(pulse_ansatz)\n",
    "print(parameters_array)"
   ]
  },
  {
   "cell_type": "markdown",
   "metadata": {
    "id": "9F3AQeMnig-h",
    "pycharm": {
     "name": "#%% md\n"
    }
   },
   "source": [
    "## **VQE Model Setup**"
   ]
  },
  {
   "cell_type": "markdown",
   "metadata": {
    "id": "BjDLnHUHiozd",
    "pycharm": {
     "name": "#%% md\n"
    }
   },
   "source": [
    "Here we use an example of Hydrogen molecule. And we give a pauli string here based on sto3g basis and with parity mapping as well as two-qubit reduction."
   ]
  },
  {
   "cell_type": "code",
   "execution_count": null,
   "metadata": {
    "id": "AQXIa7CtNNbN",
    "pycharm": {
     "name": "#%%\n"
    }
   },
   "outputs": [],
   "source": [
    "n_qubit = 2\n",
    "pauli_dict = {'II': -1.0523732, 'IZ': 0.39793742, 'ZI': -0.3979374, 'ZZ': -0.0112801, 'XX':0.18093119}"
   ]
  },
  {
   "cell_type": "markdown",
   "metadata": {
    "id": "qjU3El9qi4mg",
    "pycharm": {
     "name": "#%% md\n"
    }
   },
   "source": [
    "map_amp is a method in torchquantum introduce to map the adjusted amplitude to the pulses then get new pulses and send to quantum machine. observe_generate is a method to genrate the observe-pulses of the hydrogen molecule. run_pulse_sim is use to run the updated pulses in pulse simulator."
   ]
  },
  {
   "cell_type": "code",
   "execution_count": null,
   "metadata": {
    "id": "KbrcJ4kiNbPU",
    "pycharm": {
     "name": "#%%\n"
    }
   },
   "outputs": [],
   "source": [
    "def vqe(cur_best_w):\n",
    "    backend = FakeJakarta()\n",
    "    modified_list = ((cur_best_w[:int(len(cur_best_w)/2)])*np.cos(cur_best_w[int(len(cur_best_w)/2):]) + (cur_best_w[:int(len(cur_best_w)/2)])*np.sin(cur_best_w[int(len(cur_best_w)/2):])*1j)\n",
    "    modified_list = np.ndarray.tolist(modified_list)\n",
    "    sched1 = snp(0, backend)\n",
    "    sched2 = tnp(0,1,backend)\n",
    "    pulse_ansatz = pul_append(sched1, sched2)\n",
    "    prepulse = map_amp(pulse_ansatz, modified_list)\n",
    "    measurement_pulse = observe_genearte(prepulse, backend)\n",
    "    XX_YY_ZZ_expect = run_pulse_sim(measurement_pulse)\n",
    "    H_expect = pauli_dict['II'] + pauli_dict['IZ']*XX_YY_ZZ_expect[0] + pauli_dict['ZI']*XX_YY_ZZ_expect[1] + pauli_dict['XX']*XX_YY_ZZ_expect[2] + pauli_dict['ZZ']*XX_YY_ZZ_expect[3]\n",
    "    return H_expect"
   ]
  },
  {
   "cell_type": "markdown",
   "metadata": {
    "id": "Yq2cVwvFjhuK",
    "pycharm": {
     "name": "#%% md\n"
    }
   },
   "source": [
    "Note, here we use COBYLA as the optimizer to train the pulse ansatz."
   ]
  },
  {
   "cell_type": "code",
   "execution_count": null,
   "metadata": {
    "colab": {
     "base_uri": "https://localhost:8080/"
    },
    "id": "Z5ZG9qg-NcA2",
    "outputId": "5af21680-2a17-4463-dac9-aeb7230c3661",
    "pycharm": {
     "name": "#%%\n"
    }
   },
   "outputs": [
    {
     "name": "stderr",
     "output_type": "stream",
     "text": [
      "/usr/local/lib/python3.7/dist-packages/qiskit/compiler/assembler.py:461: RuntimeWarning: Dynamic rep rates are supported on this backend. 'rep_delay' will be used instead of 'rep_time'.\n",
      "  RuntimeWarning,\n"
     ]
    }
   ],
   "source": [
    "vqe_result = minimize(vqe, parameters_array, method='COBYLA', constraints=gen_LC(parameters_array),\n",
    "                        options={'rhobeg': 0.1, 'maxiter': 2, 'disp': True})\n",
    "print('The estimated ground state energy from pulse level VQE algorithm is: {}'.format(vqe_result.fun))\n",
    "print(\"\\nThe optimal parameter theta is : {} \".format(vqe_result.x))"
   ]
  }
 ],
 "metadata": {
  "colab": {
   "collapsed_sections": [],
   "provenance": [],
   "toc_visible": true
  },
  "kernelspec": {
   "display_name": "Python 3 (ipykernel)",
   "language": "python",
   "name": "python3"
  },
  "language_info": {
   "codemirror_mode": {
    "name": "ipython",
    "version": 3
   },
   "file_extension": ".py",
   "mimetype": "text/x-python",
   "name": "python",
   "nbconvert_exporter": "python",
   "pygments_lexer": "ipython3",
   "version": "3.9.16"
  }
 },
 "nbformat": 4,
 "nbformat_minor": 1
}
